{
  "nbformat": 4,
  "nbformat_minor": 0,
  "metadata": {
    "colab": {
      "provenance": [],
      "collapsed_sections": [
        "8c17j_NbfU8N",
        "FbU3H-1rfZKk"
      ],
      "toc_visible": true
    },
    "kernelspec": {
      "name": "python3",
      "display_name": "Python 3"
    },
    "language_info": {
      "name": "python"
    },
    "accelerator": "GPU",
    "gpuClass": "standard"
  },
  "cells": [
    {
      "cell_type": "markdown",
      "source": [
        "# Image Search"
      ],
      "metadata": {
        "id": "18RGh4Imr7fk"
      }
    },
    {
      "cell_type": "markdown",
      "source": [
        "## Library"
      ],
      "metadata": {
        "id": "gumLfJg8sGT4"
      }
    },
    {
      "cell_type": "code",
      "source": [
        "%%capture\n",
        "!pip install sentence_transformers -qq\n",
        "!pip install -U gdown -qq\n",
        "!pip install annoy -qq"
      ],
      "metadata": {
        "id": "4HyLZ4jgsI8C"
      },
      "execution_count": null,
      "outputs": []
    },
    {
      "cell_type": "code",
      "source": [
        "import shutil\n",
        "import gdown\n",
        "import os \n",
        "import pandas as pd\n",
        "import numpy as np\n",
        "from tqdm import tqdm\n",
        "from glob import glob\n",
        "\n",
        "import cv2\n",
        "from google.colab.patches import cv2_imshow\n",
        "\n",
        "from PIL import Image, ImageOps\n",
        "\n",
        "import torch\n",
        "import torchvision.transforms as T\n",
        "\n",
        "import matplotlib.pyplot as plt\n",
        "\n",
        "from natsort import natsorted\n",
        "\n",
        "from sklearn.metrics import f1_score\n",
        "\n",
        "#scipy\n",
        "from scipy import stats #ensemble\n",
        "\n",
        "#sentence_transformers\n",
        "from sentence_transformers import SentenceTransformer\n",
        "\n",
        "#Annoy index\n",
        "from annoy import AnnoyIndex"
      ],
      "metadata": {
        "id": "MqZCeBAKsQjQ"
      },
      "execution_count": null,
      "outputs": []
    },
    {
      "cell_type": "markdown",
      "source": [
        "## Load Data"
      ],
      "metadata": {
        "id": "Ex0OEWqZsTDN"
      }
    },
    {
      "cell_type": "code",
      "source": [
        "!mkdir ~/.kaggle\n",
        "!cp /content/kaggle.json ~/.kaggle/ #copy api key ---- depend on your directory -- my directory is .../colab/..\n",
        "!chmod 600 ~/.kaggle/kaggle.json\n",
        "!kaggle competitions download -c appman-image-search"
      ],
      "metadata": {
        "id": "_HuSjRvMsVKW",
        "colab": {
          "base_uri": "https://localhost:8080/"
        },
        "outputId": "98decc0c-b0b4-4b05-b459-661dfeb61ed1"
      },
      "execution_count": null,
      "outputs": [
        {
          "output_type": "stream",
          "name": "stdout",
          "text": [
            "Downloading appman-image-search.zip to /content\n",
            " 96% 33.0M/34.5M [00:02<00:00, 17.7MB/s]\n",
            "100% 34.5M/34.5M [00:02<00:00, 14.1MB/s]\n"
          ]
        }
      ]
    },
    {
      "cell_type": "code",
      "source": [
        "!unzip -q /content/appman-image-search.zip"
      ],
      "metadata": {
        "id": "iLwRxd76Q6j5"
      },
      "execution_count": null,
      "outputs": []
    },
    {
      "cell_type": "markdown",
      "source": [
        "## Preprocessing"
      ],
      "metadata": {
        "id": "j0BXvqCQRFqS"
      }
    },
    {
      "cell_type": "markdown",
      "source": [
        "### Manage Folder\n",
        "\n",
        "สร้าง folder สำหรับแต่ละ class ขึ้นมา เพราะตอนแรกไฟล์มันมาเดี่ยวๆ แล้วมันจัดการยาก"
      ],
      "metadata": {
        "id": "IFQUapJUS8IU"
      }
    },
    {
      "cell_type": "code",
      "source": [
        "#list of image\n",
        "lis = glob('/content/queries/queries/*.jpg')\n",
        "#sort by class\n",
        "lis = natsorted(lis)\n",
        "lis[:10]"
      ],
      "metadata": {
        "colab": {
          "base_uri": "https://localhost:8080/"
        },
        "id": "mIfnrI0PRHxD",
        "outputId": "d59ad129-b4b5-421d-c3e7-d329a7a1b101"
      },
      "execution_count": null,
      "outputs": [
        {
          "output_type": "execute_result",
          "data": {
            "text/plain": [
              "['/content/queries/queries/0.jpg',\n",
              " '/content/queries/queries/1.jpg',\n",
              " '/content/queries/queries/2.jpg',\n",
              " '/content/queries/queries/3.jpg',\n",
              " '/content/queries/queries/4.jpg',\n",
              " '/content/queries/queries/5.jpg',\n",
              " '/content/queries/queries/6.jpg',\n",
              " '/content/queries/queries/7.jpg',\n",
              " '/content/queries/queries/8.jpg',\n",
              " '/content/queries/queries/9.jpg']"
            ]
          },
          "metadata": {},
          "execution_count": 6
        }
      ]
    },
    {
      "cell_type": "code",
      "source": [
        "#move file to folder of their class\n",
        "for cls, src in enumerate(lis):\n",
        "  #create folder\n",
        "  folder = f'/content/queries/queries/{cls}'\n",
        "  %mkdir $folder\n",
        "  #-----------------\n",
        "\n",
        "  #source and destination\n",
        "  base_name = os.path.basename(src)\n",
        "  des = os.path.join(folder, base_name)\n",
        "  #-------------------\n",
        "\n",
        "  #move file\n",
        "  os.rename(src, des)\n",
        "  #------------"
      ],
      "metadata": {
        "id": "i6CpYzhzRllo"
      },
      "execution_count": null,
      "outputs": []
    },
    {
      "cell_type": "markdown",
      "source": [
        "### Augmentation"
      ],
      "metadata": {
        "id": "eIBv1_0WTKoA"
      }
    },
    {
      "cell_type": "code",
      "source": [
        "#list of image\n",
        "lis = glob('/content/queries/queries/**/*.jpg')\n",
        "#sort by class\n",
        "lis = natsorted(lis)\n",
        "lis[:3]"
      ],
      "metadata": {
        "colab": {
          "base_uri": "https://localhost:8080/"
        },
        "id": "eyJGCqSWWYbX",
        "outputId": "5e0b1c54-2c1a-407c-a418-20dba1d662f1"
      },
      "execution_count": null,
      "outputs": [
        {
          "output_type": "execute_result",
          "data": {
            "text/plain": [
              "['/content/queries/queries/0/0.jpg',\n",
              " '/content/queries/queries/1/1.jpg',\n",
              " '/content/queries/queries/2/2.jpg']"
            ]
          },
          "metadata": {},
          "execution_count": 8
        }
      ]
    },
    {
      "cell_type": "code",
      "source": [
        "for img_path in tqdm(lis):\n",
        "  #load image\n",
        "  img = Image.open(img_path).convert('RGB')\n",
        "  #---------\n",
        "\n",
        "  #rotate image\n",
        "  for i in range(15):\n",
        "    #degree\n",
        "    degree = i+1\n",
        "\n",
        "    #image rotate plus degree\n",
        "    img_rotate = T.functional.rotate(img, angle=degree, fill=255)\n",
        "    save_path = img_path[:-4]\n",
        "    save_path = f'{save_path}_plus_{i}.jpg'\n",
        "    img_rotate.save(save_path)\n",
        "    #---------\n",
        "\n",
        "    #image rotate negative degree\n",
        "    img_rotate = T.functional.rotate(img, angle=-degree, fill=255)\n",
        "    save_path = img_path[:-4]\n",
        "    save_path = f'{save_path}_negative_{i}.jpg'\n",
        "    img_rotate.save(save_path)\n",
        "    #---------\n",
        "\n",
        "  #------------------------------------"
      ],
      "metadata": {
        "colab": {
          "base_uri": "https://localhost:8080/"
        },
        "id": "P7VoxOgWWnto",
        "outputId": "aabebd26-54a3-45ea-ca7b-7cb67167c8a6"
      },
      "execution_count": null,
      "outputs": [
        {
          "output_type": "stream",
          "name": "stderr",
          "text": [
            "100%|██████████| 22/22 [00:02<00:00,  9.78it/s]\n"
          ]
        }
      ]
    },
    {
      "cell_type": "markdown",
      "source": [
        "### Resize image with padding"
      ],
      "metadata": {
        "id": "ElpzeJzoZQrQ"
      }
    },
    {
      "cell_type": "code",
      "source": [
        "#list of image\n",
        "lis = glob('/content/queries/queries/**/*.jpg')\n",
        "#sort by class\n",
        "lis = natsorted(lis)\n",
        "lis[:3]"
      ],
      "metadata": {
        "colab": {
          "base_uri": "https://localhost:8080/"
        },
        "id": "yqxb0gIKZXDO",
        "outputId": "55b4835f-c29a-4e79-834f-9edab3cb80e0"
      },
      "execution_count": null,
      "outputs": [
        {
          "output_type": "execute_result",
          "data": {
            "text/plain": [
              "['/content/queries/queries/0/0.jpg',\n",
              " '/content/queries/queries/0/0_negative_0.jpg',\n",
              " '/content/queries/queries/0/0_negative_1.jpg']"
            ]
          },
          "metadata": {},
          "execution_count": 10
        }
      ]
    },
    {
      "cell_type": "code",
      "source": [
        "#function for resize and add pading for keep aspect ratio\n",
        "def resize_pad(img_path):\n",
        "  #load image\n",
        "  img = Image.open(img_path).convert('RGB')\n",
        "  #---------\n",
        "\n",
        "  #resize\n",
        "  img = ImageOps.contain(img, (224,224), Image.BICUBIC)\n",
        "  #---------\n",
        "\n",
        "  #add pading\n",
        "  img = ImageOps.pad(img, (264, 264), centering=(0, 0))\n",
        "  #---------\n",
        "\n",
        "  #resize\n",
        "  img = ImageOps.contain(img, (224,224))\n",
        "  #---------\n",
        "\n",
        "  #save\n",
        "  img.save(img_path)\n",
        "  #---------"
      ],
      "metadata": {
        "id": "wB0nt7ReZcE8"
      },
      "execution_count": null,
      "outputs": []
    },
    {
      "cell_type": "code",
      "source": [
        "#train data\n",
        "for img_path in tqdm(lis):\n",
        "  img = resize_pad(img_path)"
      ],
      "metadata": {
        "colab": {
          "base_uri": "https://localhost:8080/"
        },
        "id": "F33bTUqdag9O",
        "outputId": "b350d969-4414-4fc9-e984-845abd0a1bbc"
      },
      "execution_count": null,
      "outputs": [
        {
          "output_type": "stream",
          "name": "stderr",
          "text": [
            "100%|██████████| 682/682 [00:12<00:00, 54.19it/s]\n"
          ]
        }
      ]
    },
    {
      "cell_type": "code",
      "source": [
        "#test data\n",
        "lis = glob('/content/test/images/*.jpg')\n",
        "for img_path in tqdm(lis):\n",
        "  img = resize_pad(img_path)"
      ],
      "metadata": {
        "colab": {
          "base_uri": "https://localhost:8080/"
        },
        "id": "AQelfnQldEeq",
        "outputId": "2535bdcb-a3c7-4adc-fd26-a48cb52f5b42"
      },
      "execution_count": null,
      "outputs": [
        {
          "output_type": "stream",
          "name": "stderr",
          "text": [
            "100%|██████████| 1120/1120 [00:08<00:00, 136.20it/s]\n"
          ]
        }
      ]
    },
    {
      "cell_type": "markdown",
      "source": [
        "## Model"
      ],
      "metadata": {
        "id": "RONFlt-HIJeK"
      }
    },
    {
      "cell_type": "markdown",
      "source": [
        "### Collect all image to list"
      ],
      "metadata": {
        "id": "8c17j_NbfU8N"
      }
    },
    {
      "cell_type": "code",
      "source": [
        "def append_img(lis):\n",
        "  #collect image\n",
        "  img_list = []\n",
        "\n",
        "  #loop\n",
        "  for img_path in tqdm(lis):\n",
        "    img = Image.open(img_path).convert(\"RGB\")\n",
        "    img_list.append(img)\n",
        "  \n",
        "  return img_list"
      ],
      "metadata": {
        "id": "K6AKtoCVeon5"
      },
      "execution_count": null,
      "outputs": []
    },
    {
      "cell_type": "code",
      "source": [
        "#---queries---\n",
        "queries = []\n",
        "path_queries = glob('/content/queries/queries/**/*.jpg')\n",
        "path_queries = natsorted(path_queries)\n",
        "queries = append_img(path_queries)\n",
        "#---------------"
      ],
      "metadata": {
        "colab": {
          "base_uri": "https://localhost:8080/"
        },
        "id": "Co3yHMH8JYC4",
        "outputId": "b974aa54-6d76-4969-bbdb-e2920fe07924"
      },
      "execution_count": null,
      "outputs": [
        {
          "output_type": "stream",
          "name": "stderr",
          "text": [
            "100%|██████████| 682/682 [00:00<00:00, 1250.46it/s]\n"
          ]
        }
      ]
    },
    {
      "cell_type": "code",
      "source": [
        "#----test----\n",
        "base = '/content/test/images'\n",
        "sample = pd.read_csv('/content/sample_submission.csv')\n",
        "\n",
        "path_test = []\n",
        "for img_path in sample['img_file']:\n",
        "  img_path = os.path.join(base, img_path)\n",
        "  path_test.append(img_path)\n",
        "\n",
        "\n",
        "queries_t = append_img(path_test)\n",
        "#---------------"
      ],
      "metadata": {
        "colab": {
          "base_uri": "https://localhost:8080/"
        },
        "id": "0MAK3EvBfMi-",
        "outputId": "92c977cd-cbac-4a53-80c1-bc60d5b7e000"
      },
      "execution_count": null,
      "outputs": [
        {
          "output_type": "stream",
          "name": "stderr",
          "text": [
            "100%|██████████| 1120/1120 [00:00<00:00, 1291.30it/s]\n"
          ]
        }
      ]
    },
    {
      "cell_type": "markdown",
      "source": [
        "### Craete Model"
      ],
      "metadata": {
        "id": "FbU3H-1rfZKk"
      }
    },
    {
      "cell_type": "code",
      "source": [
        "#SentenceTransformer\n",
        "img_model = SentenceTransformer('clip-ViT-B-32')\n",
        "\n",
        "#extract feature\n",
        "embedded_queries = img_model.encode(queries)\n",
        "embedded_queries = np.array(embedded_queries)\n",
        "\n",
        "embedded_queries_t = img_model.encode(queries_t)\n",
        "embedded_queries_t = np.array(embedded_queries_t)"
      ],
      "metadata": {
        "id": "PwM6D8wPJdCr"
      },
      "execution_count": null,
      "outputs": []
    },
    {
      "cell_type": "code",
      "source": [
        "annoy_index = AnnoyIndex(512, 'manhattan')  \n",
        "\n",
        "# add features to annoy_index\n",
        "for i in tqdm(range(len(embedded_queries))):\n",
        "    feature = embedded_queries[i]\n",
        "    # Adds each feature vector to annoy index\n",
        "    annoy_index.add_item(i, feature)\n",
        "\n",
        "# Builds 99 search trees for the items added to index\n",
        "annoy_index.build(99)"
      ],
      "metadata": {
        "colab": {
          "base_uri": "https://localhost:8080/"
        },
        "id": "Qby-PhsOKJ7O",
        "outputId": "a21724cf-a7b7-4836-a1c0-e398199aa105"
      },
      "execution_count": null,
      "outputs": [
        {
          "output_type": "stream",
          "name": "stderr",
          "text": [
            "100%|██████████| 682/682 [00:00<00:00, 24299.73it/s]\n"
          ]
        },
        {
          "output_type": "execute_result",
          "data": {
            "text/plain": [
              "True"
            ]
          },
          "metadata": {},
          "execution_count": 94
        }
      ]
    },
    {
      "cell_type": "markdown",
      "source": [
        "### Predict"
      ],
      "metadata": {
        "id": "vJOscWeNfi56"
      }
    },
    {
      "cell_type": "code",
      "source": [
        "id2label = glob('/content/queries/queries/**/*.jpg')\n",
        "id2label = natsorted(id2label)\n",
        "id2label = [os.path.basename(os.path.dirname(i)) for i in id2label]"
      ],
      "metadata": {
        "id": "QfBnVoKYfoVQ"
      },
      "execution_count": null,
      "outputs": []
    },
    {
      "cell_type": "code",
      "source": [
        "pred = []\n",
        "for i in tqdm(embedded_queries_t):\n",
        "  #annoy\n",
        "  a = annoy_index.get_nns_by_vector(i, len(id2label), include_distances=True)\n",
        "  thresh = a[1][0]\n",
        "\n",
        "  # ----check thresh----\n",
        "  if thresh < 114.38000000000378:\n",
        "\n",
        "    # ---select top 5---\n",
        "    ensemble = []\n",
        "    for i in range(5):\n",
        "      ensemble.append(id2label[a[0][i]])\n",
        "\n",
        "    cls = stats.mode(ensemble, keepdims=True)[0][0]\n",
        "    pred.append(int(cls))\n",
        "    # ---------------------\n",
        "\n",
        "  else:\n",
        "    pred.append(22)\n",
        "  # ----------------------\n"
      ],
      "metadata": {
        "colab": {
          "base_uri": "https://localhost:8080/"
        },
        "id": "onftU9LXJtIj",
        "outputId": "a55537c7-3313-4d2c-d9d4-388467bba0be"
      },
      "execution_count": null,
      "outputs": [
        {
          "output_type": "stream",
          "name": "stderr",
          "text": [
            "  0%|          | 0/1120 [00:00<?, ?it/s]<ipython-input-111-e520e1d820f8>:15: DeprecationWarning: Support for non-numeric arrays has been deprecated as of SciPy 1.9.0 and will be removed in 1.11.0. `pandas.DataFrame.mode` can be used instead, see https://pandas.pydata.org/docs/reference/api/pandas.DataFrame.mode.html.\n",
            "  cls = stats.mode(ensemble, keepdims=True)[0][0]\n",
            "100%|██████████| 1120/1120 [00:03<00:00, 347.61it/s]\n"
          ]
        }
      ]
    },
    {
      "cell_type": "code",
      "source": [
        "sample = pd.read_csv('/content/sample_submission.csv')\n",
        "sample['class'] = pred\n",
        "sample.to_csv('kaggle_machima.csv')\n",
        "sample.head()"
      ],
      "metadata": {
        "colab": {
          "base_uri": "https://localhost:8080/",
          "height": 206
        },
        "id": "z0oFXO62KmEG",
        "outputId": "9425168b-7775-499e-9836-2395a81520eb"
      },
      "execution_count": null,
      "outputs": [
        {
          "output_type": "execute_result",
          "data": {
            "text/plain": [
              "                                   img_file  class\n",
              "0  64ccfecf-e451-49a8-aa3f-acf2622a9a5c.jpg     12\n",
              "1  c6df1385-382a-4428-b41e-f2d729b90c87.jpg     22\n",
              "2  af30e9d0-da6e-42bd-814e-c70a0c16e554.jpg     22\n",
              "3  3fc8998e-0324-426c-8233-6b76abc7e200.jpg     22\n",
              "4  309d1085-0d11-4411-9555-b24cc8fcee02.jpg     22"
            ],
            "text/html": [
              "\n",
              "  <div id=\"df-85302844-f9dc-4ec4-b7c8-9deb8de09c2d\">\n",
              "    <div class=\"colab-df-container\">\n",
              "      <div>\n",
              "<style scoped>\n",
              "    .dataframe tbody tr th:only-of-type {\n",
              "        vertical-align: middle;\n",
              "    }\n",
              "\n",
              "    .dataframe tbody tr th {\n",
              "        vertical-align: top;\n",
              "    }\n",
              "\n",
              "    .dataframe thead th {\n",
              "        text-align: right;\n",
              "    }\n",
              "</style>\n",
              "<table border=\"1\" class=\"dataframe\">\n",
              "  <thead>\n",
              "    <tr style=\"text-align: right;\">\n",
              "      <th></th>\n",
              "      <th>img_file</th>\n",
              "      <th>class</th>\n",
              "    </tr>\n",
              "  </thead>\n",
              "  <tbody>\n",
              "    <tr>\n",
              "      <th>0</th>\n",
              "      <td>64ccfecf-e451-49a8-aa3f-acf2622a9a5c.jpg</td>\n",
              "      <td>12</td>\n",
              "    </tr>\n",
              "    <tr>\n",
              "      <th>1</th>\n",
              "      <td>c6df1385-382a-4428-b41e-f2d729b90c87.jpg</td>\n",
              "      <td>22</td>\n",
              "    </tr>\n",
              "    <tr>\n",
              "      <th>2</th>\n",
              "      <td>af30e9d0-da6e-42bd-814e-c70a0c16e554.jpg</td>\n",
              "      <td>22</td>\n",
              "    </tr>\n",
              "    <tr>\n",
              "      <th>3</th>\n",
              "      <td>3fc8998e-0324-426c-8233-6b76abc7e200.jpg</td>\n",
              "      <td>22</td>\n",
              "    </tr>\n",
              "    <tr>\n",
              "      <th>4</th>\n",
              "      <td>309d1085-0d11-4411-9555-b24cc8fcee02.jpg</td>\n",
              "      <td>22</td>\n",
              "    </tr>\n",
              "  </tbody>\n",
              "</table>\n",
              "</div>\n",
              "      <button class=\"colab-df-convert\" onclick=\"convertToInteractive('df-85302844-f9dc-4ec4-b7c8-9deb8de09c2d')\"\n",
              "              title=\"Convert this dataframe to an interactive table.\"\n",
              "              style=\"display:none;\">\n",
              "        \n",
              "  <svg xmlns=\"http://www.w3.org/2000/svg\" height=\"24px\"viewBox=\"0 0 24 24\"\n",
              "       width=\"24px\">\n",
              "    <path d=\"M0 0h24v24H0V0z\" fill=\"none\"/>\n",
              "    <path d=\"M18.56 5.44l.94 2.06.94-2.06 2.06-.94-2.06-.94-.94-2.06-.94 2.06-2.06.94zm-11 1L8.5 8.5l.94-2.06 2.06-.94-2.06-.94L8.5 2.5l-.94 2.06-2.06.94zm10 10l.94 2.06.94-2.06 2.06-.94-2.06-.94-.94-2.06-.94 2.06-2.06.94z\"/><path d=\"M17.41 7.96l-1.37-1.37c-.4-.4-.92-.59-1.43-.59-.52 0-1.04.2-1.43.59L10.3 9.45l-7.72 7.72c-.78.78-.78 2.05 0 2.83L4 21.41c.39.39.9.59 1.41.59.51 0 1.02-.2 1.41-.59l7.78-7.78 2.81-2.81c.8-.78.8-2.07 0-2.86zM5.41 20L4 18.59l7.72-7.72 1.47 1.35L5.41 20z\"/>\n",
              "  </svg>\n",
              "      </button>\n",
              "      \n",
              "  <style>\n",
              "    .colab-df-container {\n",
              "      display:flex;\n",
              "      flex-wrap:wrap;\n",
              "      gap: 12px;\n",
              "    }\n",
              "\n",
              "    .colab-df-convert {\n",
              "      background-color: #E8F0FE;\n",
              "      border: none;\n",
              "      border-radius: 50%;\n",
              "      cursor: pointer;\n",
              "      display: none;\n",
              "      fill: #1967D2;\n",
              "      height: 32px;\n",
              "      padding: 0 0 0 0;\n",
              "      width: 32px;\n",
              "    }\n",
              "\n",
              "    .colab-df-convert:hover {\n",
              "      background-color: #E2EBFA;\n",
              "      box-shadow: 0px 1px 2px rgba(60, 64, 67, 0.3), 0px 1px 3px 1px rgba(60, 64, 67, 0.15);\n",
              "      fill: #174EA6;\n",
              "    }\n",
              "\n",
              "    [theme=dark] .colab-df-convert {\n",
              "      background-color: #3B4455;\n",
              "      fill: #D2E3FC;\n",
              "    }\n",
              "\n",
              "    [theme=dark] .colab-df-convert:hover {\n",
              "      background-color: #434B5C;\n",
              "      box-shadow: 0px 1px 3px 1px rgba(0, 0, 0, 0.15);\n",
              "      filter: drop-shadow(0px 1px 2px rgba(0, 0, 0, 0.3));\n",
              "      fill: #FFFFFF;\n",
              "    }\n",
              "  </style>\n",
              "\n",
              "      <script>\n",
              "        const buttonEl =\n",
              "          document.querySelector('#df-85302844-f9dc-4ec4-b7c8-9deb8de09c2d button.colab-df-convert');\n",
              "        buttonEl.style.display =\n",
              "          google.colab.kernel.accessAllowed ? 'block' : 'none';\n",
              "\n",
              "        async function convertToInteractive(key) {\n",
              "          const element = document.querySelector('#df-85302844-f9dc-4ec4-b7c8-9deb8de09c2d');\n",
              "          const dataTable =\n",
              "            await google.colab.kernel.invokeFunction('convertToInteractive',\n",
              "                                                     [key], {});\n",
              "          if (!dataTable) return;\n",
              "\n",
              "          const docLinkHtml = 'Like what you see? Visit the ' +\n",
              "            '<a target=\"_blank\" href=https://colab.research.google.com/notebooks/data_table.ipynb>data table notebook</a>'\n",
              "            + ' to learn more about interactive tables.';\n",
              "          element.innerHTML = '';\n",
              "          dataTable['output_type'] = 'display_data';\n",
              "          await google.colab.output.renderOutput(dataTable, element);\n",
              "          const docLink = document.createElement('div');\n",
              "          docLink.innerHTML = docLinkHtml;\n",
              "          element.appendChild(docLink);\n",
              "        }\n",
              "      </script>\n",
              "    </div>\n",
              "  </div>\n",
              "  "
            ]
          },
          "metadata": {},
          "execution_count": 112
        }
      ]
    },
    {
      "cell_type": "code",
      "source": [
        "#public\n",
        "nu = pd.read_csv('/content/nu.csv')\n",
        "nu_class = nu['class'].tolist()\n",
        "pub = f1_score(nu_class[:560], pred[:560], average='macro')\n",
        "print(f'public score {pub}')"
      ],
      "metadata": {
        "colab": {
          "base_uri": "https://localhost:8080/"
        },
        "id": "dbhVQE6wkKC0",
        "outputId": "ab5917d0-e1ee-4a88-e8df-0f37730e1637"
      },
      "execution_count": null,
      "outputs": [
        {
          "output_type": "stream",
          "name": "stdout",
          "text": [
            "public score 0.9570677451971689\n"
          ]
        }
      ]
    },
    {
      "cell_type": "code",
      "source": [
        "#private\n",
        "private = f1_score(nu_class[560:], pred[560:], average='macro')\n",
        "print(f'private score {private}')"
      ],
      "metadata": {
        "colab": {
          "base_uri": "https://localhost:8080/"
        },
        "id": "jDbzXuwlk-fa",
        "outputId": "a6415167-d137-4f6b-aebf-3aa9f44136bd"
      },
      "execution_count": null,
      "outputs": [
        {
          "output_type": "stream",
          "name": "stdout",
          "text": [
            "private score 0.8419628556623328\n"
          ]
        }
      ]
    },
    {
      "cell_type": "code",
      "source": [
        "#all\n",
        "all_score = f1_score(nu_class, pred, average='macro')\n",
        "print(f'all score {all_score}')"
      ],
      "metadata": {
        "colab": {
          "base_uri": "https://localhost:8080/"
        },
        "id": "REceWTkjl30l",
        "outputId": "6f1489d1-4f19-4475-d296-6a4eac9e12f4"
      },
      "execution_count": null,
      "outputs": [
        {
          "output_type": "stream",
          "name": "stdout",
          "text": [
            "all score 0.9665805829378549\n"
          ]
        }
      ]
    }
  ]
}